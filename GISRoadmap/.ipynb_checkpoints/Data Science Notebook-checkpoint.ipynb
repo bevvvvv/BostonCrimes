{
 "cells": [
  {
   "cell_type": "markdown",
   "metadata": {},
   "source": [
    "# Python Data Science Handbook Notes\n",
    "\n",
    "## What is Data Science?\n",
    "\n",
    "Data science at it's core is a cross disciplinary skill. According to Drew Conway's Data Science Venn Diagram it is the intersection of Hacking Skills, Math and Statistics Knowledge, and Substantive Expertise.\n",
    "\n",
    "![Data Science Venn Diagram](img/DataScienceVennDiagram.png)\n",
    "\n",
    "The skills of a statistician involve knowing how to model and summarize datasets. The skills of a computer scientist involves designing and programming algorithms to process, visualize, and store data. The final skills involve domain expertise which would be \"classical\" training in the subject.\n",
    "\n",
    "### Why Python?\n",
    "\n",
    "Python was mainly designed as a scripting language, but what really lends it to data science is the third party packages available. *NumPy* allows for manipulation of array based data. *Pandas* manipulates labeled data. *Matplotlib* makes publication ready visualizations. *SciPy* enables common scientific computing tasks. *Scikit-Learn* provides machine learning capabilities."
   ]
  },
  {
   "cell_type": "code",
   "execution_count": null,
   "metadata": {},
   "outputs": [],
   "source": []
  }
 ],
 "metadata": {
  "kernelspec": {
   "display_name": "Python 3",
   "language": "python",
   "name": "python3"
  },
  "language_info": {
   "codemirror_mode": {
    "name": "ipython",
    "version": 3
   },
   "file_extension": ".py",
   "mimetype": "text/x-python",
   "name": "python",
   "nbconvert_exporter": "python",
   "pygments_lexer": "ipython3",
   "version": "3.7.0"
  }
 },
 "nbformat": 4,
 "nbformat_minor": 2
}
